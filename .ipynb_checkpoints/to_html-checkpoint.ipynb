{
 "cells": [
  {
   "cell_type": "code",
   "execution_count": 1,
   "id": "d5fdcd5c",
   "metadata": {},
   "outputs": [],
   "source": [
    "import json"
   ]
  },
  {
   "cell_type": "code",
   "execution_count": 2,
   "id": "39d6211c",
   "metadata": {},
   "outputs": [
    {
     "name": "stdout",
     "output_type": "stream",
     "text": [
      "603\n"
     ]
    }
   ],
   "source": [
    "with open('otvet.json') as f:\n",
    "    file_content = f.read()\n",
    "    otvet = json.loads(file_content)\n",
    "print(len(otvet))"
   ]
  },
  {
   "cell_type": "code",
   "execution_count": 5,
   "id": "2225eb63",
   "metadata": {},
   "outputs": [],
   "source": [
    "mass_50=[otvet[i] for i in range(0,50)]"
   ]
  },
  {
   "cell_type": "code",
   "execution_count": 6,
   "id": "5a37b5a6",
   "metadata": {},
   "outputs": [],
   "source": [
    "with open(\"out.html\",\"w\") as file:\n",
    "    for o in mass_50:\n",
    "        file.write(f\"<h3>{o['h3']}</h3>\")\n",
    "        file.write(f\"<video controls width='500px'><source src='./vid/{o['video_name']}' /></video>\")\n",
    "        file.write(f\"<video controls width='500px'><source src='./vid/{o['video_name2']}' /></video>\")\n",
    "        file.write(f\"<ul>\")\n",
    "        for ans in o['ansvers']:\n",
    "            file.write(f\"<li>{ans}</li>\")\n",
    "        file.write(f\"</ul>\")\n",
    "        file.write(f\"<h3 style='color:green'>{o['true_answer']}</h3>\")\n",
    "        file.write(f\"<p>{o['explanation_text']}</p>\")\n",
    "        file.write(\"<br/><br/><br/>\")"
   ]
  },
  {
   "cell_type": "code",
   "execution_count": null,
   "id": "da059b2f",
   "metadata": {},
   "outputs": [],
   "source": []
  }
 ],
 "metadata": {
  "kernelspec": {
   "display_name": "Python 3 (ipykernel)",
   "language": "python",
   "name": "python3"
  },
  "language_info": {
   "codemirror_mode": {
    "name": "ipython",
    "version": 3
   },
   "file_extension": ".py",
   "mimetype": "text/x-python",
   "name": "python",
   "nbconvert_exporter": "python",
   "pygments_lexer": "ipython3",
   "version": "3.10.6"
  }
 },
 "nbformat": 4,
 "nbformat_minor": 5
}
